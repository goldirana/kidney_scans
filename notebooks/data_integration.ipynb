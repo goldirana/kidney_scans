{
 "cells": [
  {
   "cell_type": "code",
   "execution_count": 2,
   "metadata": {},
   "outputs": [],
   "source": [
    "import os\n",
    "import sys\n",
    "import src"
   ]
  },
  {
   "cell_type": "code",
   "execution_count": 3,
   "metadata": {},
   "outputs": [],
   "source": [
    "os.chdir(\"../\")"
   ]
  },
  {
   "cell_type": "code",
   "execution_count": 4,
   "metadata": {},
   "outputs": [
    {
     "data": {
      "text/plain": [
       "'/Users/goldyrana/work/dl/kidney_scans/end_to_end_dl_project_kidney_scans'"
      ]
     },
     "execution_count": 4,
     "metadata": {},
     "output_type": "execute_result"
    }
   ],
   "source": [
    "%pwd"
   ]
  },
  {
   "cell_type": "code",
   "execution_count": 5,
   "metadata": {},
   "outputs": [],
   "source": [
    "import zipfile\n",
    "import gdown\n",
    "from pathlib import Path\n",
    "from dataclasses import dataclass\n",
    "from typing import Any\n",
    "from box import ConfigBox\n",
    "from src.common import read_yaml"
   ]
  },
  {
   "cell_type": "code",
   "execution_count": 19,
   "metadata": {},
   "outputs": [],
   "source": [
    "# this goes to entity\n",
    "@dataclass\n",
    "class DataIntegrationConfig:\n",
    "    root_dir: Path\n",
    "    source_url: str\n",
    "    zip_path: Path\n",
    "    extract_path: Path\n",
    "    \n",
    "# now i have to pick the read the data and return the data integration object\n",
    "    \n",
    "# the job of this class is to return the config.yaml parameters\n",
    "class ConfigurationManager:\n",
    "    def __init__(self, config_path: Path, params_path: Path):\n",
    "        self.config_path = config_path\n",
    "        self.params_path = params_path\n",
    "        \n",
    "        self.config = read_yaml(self.config_path)\n",
    "        self.params = read_yaml(self.params_path)\n",
    "        \n",
    "    \n",
    "    def get_data_ingestion_prams(self) -> ConfigBox:\n",
    "        config = self.config.data_ingestion\n",
    "        \n",
    "        return DataIntegrationConfig(\n",
    "            root_dir= config.root_dir, \n",
    "            source_url = config.source_url,\n",
    "            zip_path = config.zip_path,\n",
    "            extract_path = config.extract_path\n",
    "        )\n"
   ]
  },
  {
   "cell_type": "code",
   "execution_count": 20,
   "metadata": {},
   "outputs": [
    {
     "data": {
      "text/plain": [
       "'/Users/goldyrana/work/dl/kidney_scans/end_to_end_dl_project_kidney_scans'"
      ]
     },
     "execution_count": 20,
     "metadata": {},
     "output_type": "execute_result"
    }
   ],
   "source": [
    "os.getcwd()\n"
   ]
  },
  {
   "cell_type": "code",
   "execution_count": 21,
   "metadata": {},
   "outputs": [],
   "source": [
    "config_path = Path(\"config.yaml\")\n",
    "params_path = Path(\"params.yaml\")\n",
    "ob = ConfigurationManager(config_path, params_path)\n",
    "data = ob.get_data_ingestion_prams()"
   ]
  },
  {
   "cell_type": "code",
   "execution_count": 22,
   "metadata": {},
   "outputs": [],
   "source": [
    "from src import logger\n",
    "\n",
    "class dataIngestion:\n",
    "    def __init__(self, config: dict):\n",
    "        self.config = config\n",
    "    \n",
    "    def download_data(self):\n",
    "        try:\n",
    "            dataset_url = self.config.source_url\n",
    "            zip_path = self.config.zip_path\n",
    "            extract_path = self.config.extract_path\n",
    "            logger.info(f\"Downloading dataset from url: {dataset_url}\")\n",
    "\n",
    "            os.makedirs(\"data/raw\", exist_ok=True)\n",
    "            file_id = dataset_url.split(\"/\")[-2]\n",
    "            prefix = 'https://drive.google.com/uc?/export=download&id='\n",
    "            gdown.download(prefix+file_id,output = zip_path)\n",
    "            logger.info(f\"Dataset Downloaded to path: {zip_path}\")\n",
    "        except Exception as e:\n",
    "            logger.info(e)\n",
    "\n",
    "    def extract_data(self):\n",
    "        try:\n",
    "            extract_path = self.config.extract_path\n",
    "            with zipfile.ZipFile(self.config.zip_path, 'r') as zip_ref:\n",
    "                zip_ref.extractall(extract_path)\n",
    "            logger.info(f'Data is extracted to path: {extract_path}')\n",
    "        except Exception as e:\n",
    "            logger.exception(e)\n",
    "            \n",
    "            "
   ]
  },
  {
   "cell_type": "code",
   "execution_count": 23,
   "metadata": {},
   "outputs": [],
   "source": [
    "ingestion = dataIngestion(data)"
   ]
  },
  {
   "cell_type": "code",
   "execution_count": 24,
   "metadata": {},
   "outputs": [
    {
     "name": "stderr",
     "output_type": "stream",
     "text": [
      "Downloading...\n",
      "From: https://drive.google.com/uc?/export=download&id=1ZF74F8h_419Lf-jK-k9TRMHY1GazwSQd\n",
      "To: /Users/goldyrana/work/dl/kidney_scans/end_to_end_dl_project_kidney_scans/data/raw/data.zip\n",
      "100%|██████████| 6.81M/6.81M [00:01<00:00, 4.70MB/s]\n"
     ]
    }
   ],
   "source": [
    "ingestion.download_data()"
   ]
  },
  {
   "cell_type": "code",
   "execution_count": 89,
   "metadata": {},
   "outputs": [],
   "source": [
    "ingestion.extract_data()"
   ]
  },
  {
   "cell_type": "code",
   "execution_count": null,
   "metadata": {},
   "outputs": [],
   "source": []
  }
 ],
 "metadata": {
  "kernelspec": {
   "display_name": "kidney_scans",
   "language": "python",
   "name": "python3"
  },
  "language_info": {
   "codemirror_mode": {
    "name": "ipython",
    "version": 3
   },
   "file_extension": ".py",
   "mimetype": "text/x-python",
   "name": "python",
   "nbconvert_exporter": "python",
   "pygments_lexer": "ipython3",
   "version": "3.8.18"
  }
 },
 "nbformat": 4,
 "nbformat_minor": 2
}
