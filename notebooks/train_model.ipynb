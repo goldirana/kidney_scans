{
 "cells": [
  {
   "cell_type": "code",
   "execution_count": 1,
   "metadata": {},
   "outputs": [],
   "source": [
    "import os\n",
    "os.chdir(\"../\")"
   ]
  },
  {
   "cell_type": "code",
   "execution_count": 2,
   "metadata": {},
   "outputs": [
    {
     "data": {
      "text/plain": [
       "'/Users/goldyrana/work/dl/kidney_scans/end_to_end_dl_project_kidney_scans'"
      ]
     },
     "execution_count": 2,
     "metadata": {},
     "output_type": "execute_result"
    }
   ],
   "source": [
    "%pwd"
   ]
  },
  {
   "cell_type": "code",
   "execution_count": 3,
   "metadata": {},
   "outputs": [],
   "source": [
    "from dataclasses import dataclass\n",
    "import os\n",
    "from pathlib import Path\n",
    "from src.common import read_yaml, config_path, params_path"
   ]
  },
  {
   "cell_type": "code",
   "execution_count": 4,
   "metadata": {},
   "outputs": [],
   "source": [
    "@dataclass\n",
    "class TrainModelConfig:\n",
    "    root_dir: Path\n",
    "    trained_model_path: Path\n",
    "    updated_base_model_path: Path\n",
    "    training_data: Path\n",
    "    params_epochs: int\n",
    "    params_batch_size: int\n",
    "    params_is_augmentation: bool\n",
    "    params_image_size: list"
   ]
  },
  {
   "cell_type": "code",
   "execution_count": 5,
   "metadata": {},
   "outputs": [],
   "source": [
    "class ConfigurationManager:\n",
    "    def __init__(self):\n",
    "        self.config_path = config_path\n",
    "        self.params_path = params_path\n",
    "        \n",
    "        self.config = read_yaml(self.config_path)\n",
    "        self.params = read_yaml(self.params_path)\n",
    "        \n",
    "    def get_training_config(self) -> TrainModelConfig:\n",
    "        print(self.config)\n",
    "        training = self.config.training\n",
    "        prepare_base_model = self.config.prepare_base_model\n",
    "        params = self.params\n",
    "        training_data = os.path.join(self.config.data_ingestion.extract_path, \"data\") \n",
    "        \n",
    "        return TrainModelConfig(\n",
    "            root_dir=Path(training.root_dir),\n",
    "            trained_model_path=Path(training.trained_model_path),\n",
    "            updated_base_model_path=Path(prepare_base_model.updated_base_model_path),\n",
    "            training_data=Path(training_data),\n",
    "            params_epochs=params.EPOCHS,\n",
    "            params_batch_size=params.BATCH_SIZE,\n",
    "            params_is_augmentation=params.AUGMENTATION,\n",
    "            params_image_size=params.IMAGE_SIZE\n",
    "            )"
   ]
  },
  {
   "cell_type": "code",
   "execution_count": 6,
   "metadata": {},
   "outputs": [
    {
     "name": "stdout",
     "output_type": "stream",
     "text": [
      "{'data': 'data/raw', 'data_ingestion': {'root_dir': 'data/', 'source_url': 'https://drive.google.com/file/d/1ZF74F8h_419Lf-jK-k9TRMHY1GazwSQd/view?usp=drive_link', 'zip_path': 'data/raw/data.zip', 'extract_path': 'data/processed'}, 'prepare_base_model': {'root_dir': 'models/prepare_base_model', 'base_model_path': 'models/prepare_base_model/base_model.h5', 'updated_base_model_path': 'models/prepare_base_model/base_model_updated.h5'}, 'training': {'root_dir': 'models/training', 'trained_model_path': 'models/training/model.h5'}}\n"
     ]
    },
    {
     "data": {
      "text/plain": [
       "TrainModelConfig(root_dir=PosixPath('models/training'), trained_model_path=PosixPath('models/training/model.h5'), updated_base_model_path=PosixPath('models/prepare_base_model/base_model_updated.h5'), training_data=PosixPath('data/processed/data'), params_epochs=1, params_batch_size=16, params_is_augmentation=True, params_image_size=BoxList([224, 224, 3]))"
      ]
     },
     "execution_count": 6,
     "metadata": {},
     "output_type": "execute_result"
    }
   ],
   "source": [
    "config = ConfigurationManager()\n",
    "params = config.get_training_config()\n",
    "params"
   ]
  },
  {
   "cell_type": "code",
   "execution_count": 7,
   "metadata": {},
   "outputs": [],
   "source": [
    "import os\n",
    "import urllib.request as request\n",
    "from zipfile import ZipFile\n",
    "import tensorflow as tf\n",
    "import time"
   ]
  },
  {
   "cell_type": "code",
   "execution_count": 24,
   "metadata": {},
   "outputs": [],
   "source": [
    "class Training:\n",
    "    def __init__(self, config: TrainModelConfig):\n",
    "        self.config = config\n",
    "    \n",
    "    @staticmethod\n",
    "    def save_model(path: Path, model: tf.keras.Model):\n",
    "        model.save(path)\n",
    "      \n",
    "    def get_base_model(self):\n",
    "        self.model = tf.keras.models.load_model(\n",
    "            self.config.updated_base_model_path)\n",
    "        \n",
    "    def train_valid_generator(self):\n",
    "       \n",
    "        data_generator_kwargs = dict(\n",
    "            target_size=self.config.params_image_size[:-1],\n",
    "            batch_size=self.config.params_batch_size,\n",
    "            interpolation=\"bilinear\"\n",
    "        )\n",
    "        \n",
    "        validation_data_gen = tf.keras.preprocessing.image.ImageDataGenerator(\n",
    "            rescale = 1./255,\n",
    "            validation_split = 0.20\n",
    "        )\n",
    "        \n",
    "        self.valid_generator=validation_data_gen.flow_from_directory(\n",
    "            directory=self.config.training_data,\n",
    "            shuffle=False,\n",
    "            **data_generator_kwargs)\n",
    "        \n",
    "        # keeping same as validataion data gen\n",
    "        train_generator = validation_data_gen\n",
    "        self.train_generator=train_generator.flow_from_directory(\n",
    "            directory=self.config.training_data,\n",
    "            shuffle=True,\n",
    "            **data_generator_kwargs)\n",
    "        \n",
    "    def train(self):\n",
    "        self.steps_per_epoch=10\n",
    "        self.validation_steps=3\n",
    "        \n",
    "        self.model.fit(\n",
    "            self.train_generator,\n",
    "            epochs=self.config.params_epochs,\n",
    "            steps_per_epoch=self.steps_per_epoch,\n",
    "            validation_data=self.valid_generator,\n",
    "        )\n",
    "        \n",
    "        self.save_model(path=self.config.trained_model_path, \n",
    "                        model=self.model)"
   ]
  },
  {
   "cell_type": "code",
   "execution_count": 25,
   "metadata": {},
   "outputs": [
    {
     "name": "stdout",
     "output_type": "stream",
     "text": [
      "{'data': 'data/raw', 'data_ingestion': {'root_dir': 'data/', 'source_url': 'https://drive.google.com/file/d/1ZF74F8h_419Lf-jK-k9TRMHY1GazwSQd/view?usp=drive_link', 'zip_path': 'data/raw/data.zip', 'extract_path': 'data/processed'}, 'prepare_base_model': {'root_dir': 'models/prepare_base_model', 'base_model_path': 'models/prepare_base_model/base_model.h5', 'updated_base_model_path': 'models/prepare_base_model/base_model_updated.h5'}, 'training': {'root_dir': 'models/training', 'trained_model_path': 'models/training/model.h5'}}\n",
      "Found 56 images belonging to 2 classes.\n",
      "Found 56 images belonging to 2 classes.\n",
      "10/10 [==============================] - 23s 2s/step - loss: 2.4940 - accuracy: 0.6786 - val_loss: 0.9371 - val_accuracy: 0.5000\n"
     ]
    },
    {
     "name": "stderr",
     "output_type": "stream",
     "text": [
      "/Users/goldyrana/miniconda3/envs/kidney_scans/lib/python3.8/site-packages/keras/src/engine/training.py:3000: UserWarning: You are saving your model as an HDF5 file via `model.save()`. This file format is considered legacy. We recommend using instead the native Keras format, e.g. `model.save('my_model.keras')`.\n",
      "  saving_api.save_model(\n"
     ]
    }
   ],
   "source": [
    "try:\n",
    "    config = ConfigurationManager()\n",
    "    training_config = config.get_training_config()\n",
    "    training = training(training_config)\n",
    "    training.get_base_model()\n",
    "    training.train_valid_generator()\n",
    "    training.train()\n",
    "except Exception as e:\n",
    "    raise e"
   ]
  },
  {
   "cell_type": "code",
   "execution_count": null,
   "metadata": {},
   "outputs": [],
   "source": []
  }
 ],
 "metadata": {
  "kernelspec": {
   "display_name": "kidney_scans",
   "language": "python",
   "name": "python3"
  },
  "language_info": {
   "codemirror_mode": {
    "name": "ipython",
    "version": 3
   },
   "file_extension": ".py",
   "mimetype": "text/x-python",
   "name": "python",
   "nbconvert_exporter": "python",
   "pygments_lexer": "ipython3",
   "version": "3.8.18"
  }
 },
 "nbformat": 4,
 "nbformat_minor": 2
}
